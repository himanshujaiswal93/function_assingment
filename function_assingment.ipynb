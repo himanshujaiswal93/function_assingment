{
 "cells": [
  {
   "cell_type": "markdown",
   "metadata": {},
   "source": [
    "theoritical quistion"
   ]
  },
  {
   "cell_type": "markdown",
   "metadata": {},
   "source": [
    "Q,1 What is the difference between a function and a method in Python?\n",
    "Ans=>\n",
    "      In Python, methods and functions have similar purposes but differ in important ways. Functions are independent blocks of code that can be called from anywhere, while methods are tied to objects or classes and need an object or class instance to be invoked.7 Sept 2023"
   ]
  },
  {
   "cell_type": "markdown",
   "metadata": {},
   "source": [
    " Q. 2 Explain the concept of function arguments and parameters in Python.\n",
    "\n",
    " Ans=> Arguments make functions more versatile, enabling them to perform useful computations. Without arguments, functions cannot respond dynamically or process different data, making them less flexible and reusable for various tasks. In general, Function arguments are input values that determine the behavior and output of a function. By passing different arguments, we can customize the function's behavior and process different inputs to generate different outputs.\n",
    "\n",
    " ##Types of Function Arguments in Python\n",
    "\n",
    "Python has four built-in function argument types we can use to call functions and have them perform their intended tasks. These are:\n",
    "\n",
    "Default Arguments\n",
    "Keyword Arguments\n",
    "Arbitrary Arguments\n",
    "Required Arguments\n"
   ]
  },
  {
   "cell_type": "markdown",
   "metadata": {},
   "source": [
    "Q.3  What are the different ways to define and call a function in Python?\n",
    "\n",
    "Ans=> The four steps to defining a function in Python are the following:\n",
    "\n",
    "Use the keyword def to declare the function and follow this up with the function name.\n",
    "Add parameters to the function: they should be within the parentheses of the function. End your line with a colon.\n",
    "Add statements that the functions should execute.\n",
    "End your function with a return statement if the function should output something. Without the return statement, your function will return an object None.\n"
   ]
  },
  {
   "cell_type": "markdown",
   "metadata": {},
   "source": [
    "Q.4  What is the purpose of the `return` statement in a Python function?\n",
    "\n",
    "Ans=> The Python return statement marks the end of a function and specifies the value or values to pass back from the function. Return statements can return data of any type, including integers, floats, strings, list, dictionary and even other functions.\n"
   ]
  },
  {
   "cell_type": "markdown",
   "metadata": {},
   "source": [
    "Q.5  What are iterators in Python and how do they differ from iterables?\n",
    "Ans=> An Iterable is basically an object that any user can iterate over. An Iterator is also an object that helps a user in iterating over another object (that is iterable). We can generate an iterator when we pass the object to the iter() method. We use the __next__() method for iterating."
   ]
  },
  {
   "cell_type": "markdown",
   "metadata": {},
   "source": [
    "Q.6  Explain the concept of generators in Python and how they are defined.\n",
    "\n",
    "Ans=>  A generator function in Python is defined like a normal function, but whenever it needs to generate a value, it does so with the yield keyword rather than return. If the body of a def contains yield, the function automatically becomes a Python generator function"
   ]
  },
  {
   "cell_type": "markdown",
   "metadata": {},
   "source": [
    "Q.7 What are the advantages of using generators over regular functions?\n",
    "\n",
    "Ans=> 1.easy to implement as they automatically implement __iter__(), __next__(), and StopIteration which otherwise, need to be explicitly specified.\n",
    "\n",
    "2.  more efficient than loops for large datasets and allows for code that runs in linear time."
   ]
  },
  {
   "cell_type": "markdown",
   "metadata": {},
   "source": [
    " Q.8  What is a lambda function in Python and when is it typically used?\n",
    "\n",
    " Ans=>  Python Lambda Functions are anonymous functions means that the function is without a name. As we already know the def keyword is used to define a normal function in Python. Similarly, the lambda keyword is used to define an anonymous function in Python."
   ]
  },
  {
   "cell_type": "markdown",
   "metadata": {},
   "source": [
    "Q.9  Explain the purpose and usage of the `map()` function in Python.\n",
    "\n",
    "Ans=> Map in Python is a function that works as an iterator to return a result after applying a function to every item of an iterable (tuple, lists, etc.). It is used when you want to apply a single transformation function to all the iterable elements."
   ]
  },
  {
   "cell_type": "markdown",
   "metadata": {},
   "source": [
    " Q.10 What is the difference between `map()`, `reduce()`, and `filter()` functions in Python?\n",
    "\n",
    " Ans=> Python's reduce() function doesn't return a new sequence like map() and filter(). \n",
    " Instead, it returns a single value. \n",
    " The syntax is similar to the other two functions: reduce() applies the function to the elements of the sequence, from left to right, starting with the first two elements in the sequence.\n",
    "\n",
    " The 'Map' operation in programming refers to the transformation of data from one form into another. The 'Reduce' operation is a method for combining the elements of a list into a single result, while 'Filter' is a method for selecting a subset of items from a list based on a particular condition."
   ]
  },
  {
   "cell_type": "markdown",
   "metadata": {},
   "source": [
    "Q.11   Using pen & Paper write the internal mechanism for sum operation using  reduce function on this given\n",
    "list:[47,11,42,13]\n",
    "\n",
    "Ans=> "
   ]
  },
  {
   "cell_type": "code",
   "execution_count": 2,
   "metadata": {},
   "outputs": [
    {
     "name": "stdout",
     "output_type": "stream",
     "text": [
      "The sum of the list elements is : 113\n",
      "The maximum element of the list is : 47\n"
     ]
    }
   ],
   "source": [
    "# python code to demonstrate working of reduce()\n",
    "\n",
    "# importing functools for reduce()\n",
    "import functools\n",
    "\n",
    "# initializing list\n",
    "lis = [47,11,42,13]\n",
    "\n",
    "# using reduce to compute sum of list\n",
    "print(\"The sum of the list elements is : \", end=\"\")\n",
    "print(functools.reduce(lambda a, b: a+b, lis))\n",
    "\n",
    "# using reduce to compute maximum element from list\n",
    "print(\"The maximum element of the list is : \", end=\"\")\n",
    "print(functools.reduce(lambda a, b: a if a > b else b, lis))\n"
   ]
  },
  {
   "cell_type": "markdown",
   "metadata": {},
   "source": [
    "Practical Quistions"
   ]
  },
  {
   "cell_type": "code",
   "execution_count": 5,
   "metadata": {},
   "outputs": [
    {
     "name": "stdout",
     "output_type": "stream",
     "text": [
      "10 4 66 "
     ]
    }
   ],
   "source": [
    "#Q.1  Write a Python function that takes a list of numbers as input and returns the sum of all even numbers in\n",
    "#   the list.\n",
    "\n",
    "# Python program to print Even Numbers in a List\n",
    "\n",
    "# list of numbers\n",
    "list1 = [10, 21, 4, 45, 66, 93]\n",
    "\n",
    "# iterating each number in list\n",
    "for num in list1:\n",
    "\n",
    "    # checking condition\n",
    "    if num % 2 == 0:\n",
    "        print(num, end=\" \")\n",
    "\n",
    "\n",
    "    \n",
    "\n"
   ]
  },
  {
   "cell_type": "code",
   "execution_count": 6,
   "metadata": {},
   "outputs": [
    {
     "name": "stdout",
     "output_type": "stream",
     "text": [
      "The original string is : Pw for skills\n",
      "The reversed string(using loops) is : slliks rof wP\n"
     ]
    }
   ],
   "source": [
    "#Q.2  Create a Python function that accepts a string and returns the reverse of that string.\n",
    "\n",
    "def reverse(s):\n",
    "    str = \"\"\n",
    "    for i in s:\n",
    "        str = i + str\n",
    "    return str\n",
    "\n",
    "s = \"Pw for skills\"\n",
    "\n",
    "print(\"The original string is : \", end=\"\")\n",
    "print(s)\n",
    "\n",
    "print(\"The reversed string(using loops) is : \", end=\"\")\n",
    "print(reverse(s))\n"
   ]
  },
  {
   "cell_type": "code",
   "execution_count": 7,
   "metadata": {},
   "outputs": [
    {
     "name": "stdout",
     "output_type": "stream",
     "text": [
      "[1, 9, 25, 49]\n"
     ]
    }
   ],
   "source": [
    "#Q.3  Implement a Python function that takes a list of integers and returns a new list containing the squares of\n",
    "#each number\n",
    "# create a list with 7 integer elements\n",
    "data=[1,2,3,4,5,6,7]\n",
    " \n",
    "# use list comprehension to get square\n",
    "# of odd numbers\n",
    "result = [i*i for i in data if i%2!=0]\n",
    " \n",
    "# display the result\n",
    "print(result)\n"
   ]
  },
  {
   "cell_type": "code",
   "execution_count": 8,
   "metadata": {},
   "outputs": [
    {
     "name": "stdout",
     "output_type": "stream",
     "text": [
      "11 is a prime number\n"
     ]
    }
   ],
   "source": [
    "#Q.4 4. Write a Python function that checks if a given number is prime or not from 1 to 200\n",
    "\n",
    "num = 11\n",
    "# Negative numbers, 0 and 1 are not primes\n",
    "if num > 1:\n",
    "  \n",
    "    # Iterate from 2 to n // 2\n",
    "    for i in range(2, (num//2)+1):\n",
    "      \n",
    "        # If num is divisible by any number between\n",
    "        # 2 and n / 2, it is not prime\n",
    "        if (num % i) == 0:\n",
    "            print(num, \"is not a prime number\")\n",
    "            break\n",
    "    else:\n",
    "        print(num, \"is a prime number\")\n",
    "else:\n",
    "    print(num, \"is not a prime number\")\n",
    "\n"
   ]
  },
  {
   "cell_type": "code",
   "execution_count": 9,
   "metadata": {},
   "outputs": [
    {
     "name": "stdout",
     "output_type": "stream",
     "text": [
      "0\n",
      "1\n",
      "4\n",
      "9\n",
      "16\n",
      "25\n"
     ]
    }
   ],
   "source": [
    "#Q.5. Create an iterator class in Python that generates the Fibonacci sequence up to a specified number of\n",
    "#terms.\n",
    "\n",
    "class SquareIterator:\n",
    "    def __init__(self, max_n):\n",
    "        self.max_n = max_n\n",
    "        self.current = 0\n",
    "\n",
    "    def __iter__(self):\n",
    "        return self\n",
    "\n",
    "    def __next__(self):\n",
    "        if self.current > self.max_n:\n",
    "            raise StopIteration\n",
    "        result = self.current ** 2\n",
    "        self.current += 1\n",
    "        return result\n",
    "\n",
    "# Using the custom iterator\n",
    "square_iter = SquareIterator(5)\n",
    "\n",
    "for num in square_iter:\n",
    "    print(num)\n"
   ]
  },
  {
   "cell_type": "code",
   "execution_count": 14,
   "metadata": {},
   "outputs": [
    {
     "name": "stdout",
     "output_type": "stream",
     "text": [
      "Powers of 10 up to exponent 10:\n",
      "1\n",
      "10\n",
      "100\n",
      "1000\n",
      "10000\n",
      "100000\n",
      "1000000\n",
      "10000000\n",
      "100000000\n",
      "1000000000\n",
      "10000000000\n"
     ]
    }
   ],
   "source": [
    "#Q.6  Write a generator function in Python that yields the powers of 2 up to a given exponent.\n",
    "\n",
    "def power_generator(base, exponent):\n",
    "    result = 1\n",
    "    for i in range(exponent + 1):\n",
    "        yield result\n",
    "        result *= base\n",
    "\n",
    "# Accept input from the user\n",
    "base = int(input(\"Input the base number: \"))\n",
    "exponent = int(input(\"Input the exponent: \"))\n",
    "\n",
    "# Create the generator object\n",
    "power_gen = power_generator(base, exponent)\n",
    "\n",
    "# Generate and print the powers\n",
    "print(f\"Powers of {base} up to exponent {exponent}:\")\n",
    "for power in power_gen:\n",
    "    print(power)\n"
   ]
  },
  {
   "cell_type": "code",
   "execution_count": 16,
   "metadata": {},
   "outputs": [
    {
     "name": "stdout",
     "output_type": "stream",
     "text": [
      "1\n",
      "2\n"
     ]
    }
   ],
   "source": [
    "#Q.7 Implement a generator function that reads a file line by line and yields each line as a string.\n",
    "\n",
    "def count_up_to(max):\n",
    "    count = 1\n",
    "    while count <= max:\n",
    "        yield count\n",
    "        count += 1\n",
    "\n",
    "counter = count_up_to(5)\n",
    "print(next(counter))  # Output: 1\n",
    "print(next(counter))  # Output: 2\n"
   ]
  },
  {
   "cell_type": "code",
   "execution_count": 17,
   "metadata": {},
   "outputs": [
    {
     "name": "stdout",
     "output_type": "stream",
     "text": [
      "The original list is : [('a', 2), ('c', 3), ('d', 4)]\n",
      "The sort order list is : [4, 2, 3]\n",
      "The list after appropriate sorting : [('d', 4), ('a', 2), ('c', 3)]\n"
     ]
    }
   ],
   "source": [
    "#Q.8 8. Use a lambda function in Python to sort a list of tuples based on the second element of each tuple.\n",
    "\n",
    "# initializing list of tuples\n",
    "test_list = [('a', 2), ('c', 3), ('d', 4)]\n",
    " \n",
    "# initializing sort order\n",
    "sort_order = [4, 2, 3]\n",
    " \n",
    "# printing the original list\n",
    "print(\"The original list is : \" + str(test_list))\n",
    " \n",
    "# printing sort order list\n",
    "print(\"The sort order list is : \" + str(sort_order))\n",
    " \n",
    "# using list comprehension + filter() + lambda\n",
    "# sort list of tuples according to second\n",
    "res = [i for j in sort_order\n",
    "       for i in filter(lambda k: k[1] == j, test_list)]\n",
    " \n",
    "# printing result\n",
    "print(\"The list after appropriate sorting : \" + str(res))"
   ]
  },
  {
   "cell_type": "code",
   "execution_count": 18,
   "metadata": {},
   "outputs": [
    {
     "name": "stdout",
     "output_type": "stream",
     "text": [
      "47.00 Celsius is equivalent to: 116.60 Fahrenheit\n"
     ]
    }
   ],
   "source": [
    "#Q.9 Write a Python program that uses `map()` to convert a list of temperatures from Celsius to Fahrenheit\n",
    "\n",
    "# Temperature in celsius degree\n",
    "celsius = 47\n",
    " \n",
    "# Converting the temperature to\n",
    "# fehrenheit using the formula\n",
    "fahrenheit = (celsius * 1.8) + 32\n",
    " \n",
    "# printing the result\n",
    "print('%.2f Celsius is equivalent to: %.2f Fahrenheit'\n",
    "      % (celsius, fahrenheit))"
   ]
  },
  {
   "cell_type": "code",
   "execution_count": 20,
   "metadata": {},
   "outputs": [
    {
     "name": "stdout",
     "output_type": "stream",
     "text": [
      "hmnsh -  Cmptr Scnc Prtl fr pw\n",
      "Lvng Pythn LL\n"
     ]
    }
   ],
   "source": [
    "# Q.10 Create a Python program that uses `filter()` to remove all the vowels from a given string\n",
    "\n",
    "# Function to remove vowels \n",
    "def rem_vowel(string): \n",
    "    vowels = ['a','e','i','o','u'] \n",
    "    result = [letter for letter in string if letter.lower() not in vowels] \n",
    "    result = ''.join(result) \n",
    "    print(result) \n",
    "  \n",
    "# Driver program \n",
    "string = \"himanshu - A Computer Science Portal for pw\"\n",
    "rem_vowel(string) \n",
    "string = \"Loving Python LOL\"\n",
    "rem_vowel(string) \n"
   ]
  }
 ],
 "metadata": {
  "kernelspec": {
   "display_name": "Python 3",
   "language": "python",
   "name": "python3"
  },
  "language_info": {
   "codemirror_mode": {
    "name": "ipython",
    "version": 3
   },
   "file_extension": ".py",
   "mimetype": "text/x-python",
   "name": "python",
   "nbconvert_exporter": "python",
   "pygments_lexer": "ipython3",
   "version": "3.9.6"
  }
 },
 "nbformat": 4,
 "nbformat_minor": 2
}
